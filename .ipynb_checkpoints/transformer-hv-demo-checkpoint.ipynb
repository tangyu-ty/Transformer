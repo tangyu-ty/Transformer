{
 "cells": [
  {
   "cell_type": "markdown",
   "metadata": {
    "execution": {
     "iopub.execute_input": "2021-10-20T05:20:39.269124Z",
     "iopub.status.busy": "2021-10-20T05:20:39.26813Z",
     "iopub.status.idle": "2021-10-20T05:20:39.279016Z",
     "shell.execute_reply": "2021-10-20T05:20:39.278213Z",
     "shell.execute_reply.started": "2021-10-20T05:20:39.269072Z"
    }
   },
   "source": [
    "参考链接\n",
    "http://nlp.seas.harvard.edu/2018/04/03/attention.html </br>\n",
    "视频说明:\n",
    "https://www.bilibili.com/video/BV1pQ4y1z7Uf"
   ]
  },
  {
   "cell_type": "markdown",
   "metadata": {},
   "source": [
    "# transformer 实现英中翻译"
   ]
  },
  {
   "cell_type": "code",
   "execution_count": 1,
   "metadata": {
    "execution": {
     "iopub.execute_input": "2021-10-23T02:26:26.003807Z",
     "iopub.status.busy": "2021-10-23T02:26:26.002897Z",
     "iopub.status.idle": "2021-10-23T02:26:26.014332Z",
     "shell.execute_reply": "2021-10-23T02:26:26.0136Z",
     "shell.execute_reply.started": "2021-10-23T02:26:26.003761Z"
    },
    "pycharm": {
     "is_executing": true
    }
   },
   "outputs": [],
   "source": [
    "import torch\n",
    "import jieba\n",
    "import seaborn\n",
    "import numpy as np\n",
    "import torch.nn as nn\n",
    "import math, copy, time\n",
    "import torch.nn.functional as F\n",
    "\n",
    "from tqdm import tqdm\n",
    "from torchtext import data\n",
    "from torch.nn import LayerNorm\n",
    "import matplotlib.pyplot as plt\n",
    "from torchtext.legacy.data import Field\n",
    "from torch.autograd import Variable\n",
    "from nltk.translate.bleu_score import sentence_bleu\n",
    "\n",
    "seaborn.set_context(context=\"talk\")\n",
    "%matplotlib inline"
   ]
  },
  {
   "cell_type": "code",
   "execution_count": 2,
   "metadata": {
    "execution": {
     "iopub.execute_input": "2021-10-23T02:26:26.017547Z",
     "iopub.status.busy": "2021-10-23T02:26:26.017086Z",
     "iopub.status.idle": "2021-10-23T02:26:26.026748Z",
     "shell.execute_reply": "2021-10-23T02:26:26.02594Z",
     "shell.execute_reply.started": "2021-10-23T02:26:26.017302Z"
    }
   },
   "outputs": [],
   "source": [
    "class Config:\n",
    "    def __init__(self):\n",
    "        self.data_path = \"../input/translate-en-2-ch\"\n",
    "        self.testing_path = self.data_path + '/testing.txt'\n",
    "        self.training_path = self.data_path + '/training.txt'\n",
    "        self.validation_path = self.data_path + '/validation.txt'\n",
    "        self.init_token = '<bos>'\n",
    "        self.eos_token = '<eos>'\n",
    "        self.fix_length = 50\n",
    "        self.device = torch.device('cuda' if torch.cuda.is_available() else 'cpu')\n",
    "        self.batch_size = 128\n",
    "        self.beam_size = 4\n",
    "        self.n_layers = 6\n",
    "        self.h = 8\n",
    "        self.d_model = 512\n",
    "        self.d_ff = 2048\n",
    "        self.dropout = 0.1\n",
    "        self.epochs = 20\n",
    "        self.load_model = False               \n",
    "        self.load_model_path = 'weight.ckpt'     \n",
    "        self.smoothing = 0\n",
    "        self.factor = 2\n",
    "        self.warmup = 40\n",
    "        self.load_path = '../input/transformer-translate-entoch/transformer.pth'\n"
   ]
  },
  {
   "cell_type": "markdown",
   "metadata": {},
   "source": [
    "<img src='http://nlp.seas.harvard.edu/images/the-annotated-transformer_14_0.png'>"
   ]
  },
  {
   "cell_type": "markdown",
   "metadata": {},
   "source": [
    "## embedding "
   ]
  },
  {
   "cell_type": "code",
   "execution_count": 3,
   "metadata": {
    "execution": {
     "iopub.execute_input": "2021-10-23T02:26:26.02835Z",
     "iopub.status.busy": "2021-10-23T02:26:26.028097Z",
     "iopub.status.idle": "2021-10-23T02:26:26.039046Z",
     "shell.execute_reply": "2021-10-23T02:26:26.038303Z",
     "shell.execute_reply.started": "2021-10-23T02:26:26.028319Z"
    }
   },
   "outputs": [],
   "source": [
    "class Embeddings(nn.Module):\n",
    "    \"\"\"\n",
    "    d_model:512,Embeddings_size\n",
    "    vocab:vocab_size\n",
    "    \"\"\"\n",
    "    def __init__(self, d_model,  vocab):\n",
    "        super(Embeddings, self).__init__()\n",
    "        self.lut = nn.Embedding(vocab, d_model)\n",
    "        self.d_model = d_model\n",
    "\n",
    "    def forward(self, x):\n",
    "        return self.lut(x) * math.sqrt(self.d_model)#做了*开方的效果"
   ]
  },
  {
   "cell_type": "markdown",
   "metadata": {},
   "source": [
    "## 位置编码"
   ]
  },
  {
   "cell_type": "markdown",
   "metadata": {},
   "source": [
    "$$\n",
    "PE_{(pos,2i)} = sin(pos/10000^{2i/d_{model}}  \\quad) \\\\\n",
    "PE_{(pos,2i+1)} = cos(pos/10000^{2i/d_{model}}  \\quad)\n",
    "$$"
   ]
  },
  {
   "cell_type": "markdown",
   "metadata": {},
   "source": [
    "$pos$表示是第几个词,$2i$和$2i+1$ 表示的是这个词第$2i$和$2i+1$个维度 \n",
    "维度是偶数用第一个公式，维度是奇数用第二个公式"
   ]
  },
  {
   "cell_type": "code",
   "execution_count": 22,
   "metadata": {},
   "outputs": [
    {
     "name": "stdout",
     "output_type": "stream",
     "text": [
      "tensor([  0,   3,   6,   9,  12,  15,  18,  21,  24,  27,  30,  33,  36,  39,\n",
      "         42,  45,  48,  51,  54,  57,  60,  63,  66,  69,  72,  75,  78,  81,\n",
      "         84,  87,  90,  93,  96,  99, 102, 105, 108, 111, 114, 117, 120, 123,\n",
      "        126, 129, 132, 135, 138, 141, 144, 147, 150, 153, 156, 159, 162, 165,\n",
      "        168, 171, 174, 177, 180, 183, 186, 189, 192, 195, 198, 201, 204, 207,\n",
      "        210, 213, 216, 219, 222, 225, 228, 231, 234, 237, 240, 243, 246, 249,\n",
      "        252, 255, 258, 261, 264, 267, 270, 273, 276, 279, 282, 285, 288, 291,\n",
      "        294, 297, 300, 303, 306, 309, 312, 315, 318, 321, 324, 327, 330, 333,\n",
      "        336, 339, 342, 345, 348, 351, 354, 357, 360, 363, 366, 369, 372, 375,\n",
      "        378, 381, 384, 387, 390, 393, 396, 399, 402, 405, 408, 411, 414, 417,\n",
      "        420, 423, 426, 429, 432, 435, 438, 441, 444, 447, 450, 453, 456, 459,\n",
      "        462, 465, 468, 471, 474, 477, 480, 483, 486, 489, 492, 495, 498, 501,\n",
      "        504, 507, 510])\n"
     ]
    }
   ],
   "source": [
    "print(torch.arange(0, 512,3))"
   ]
  },
  {
   "cell_type": "code",
   "execution_count": null,
   "metadata": {
    "execution": {
     "iopub.execute_input": "2021-10-23T02:26:26.040744Z",
     "iopub.status.busy": "2021-10-23T02:26:26.040426Z",
     "iopub.status.idle": "2021-10-23T02:26:26.051848Z",
     "shell.execute_reply": "2021-10-23T02:26:26.051192Z",
     "shell.execute_reply.started": "2021-10-23T02:26:26.040708Z"
    }
   },
   "outputs": [],
   "source": [
    "class PositionalEncoding(nn.Module):\n",
    "    \"Implement the PE function.\"\n",
    "    def __init__(self, d_model, dropout, max_len=5000):#d_model的默认值是512，每个词是512维\n",
    "        super(PositionalEncoding, self).__init__()\n",
    "        self.dropout = nn.Dropout(p=dropout)#dropout的几率\n",
    "        \n",
    "        # Compute the positional encodings once in log space.\n",
    "        pe = torch.zeros(max_len, d_model)#max_len*d_model维度的0矩阵\n",
    "        position = torch.arange(0, max_len).unsqueeze(1)#0,max_len-1的值按照维度1展开，（0是行，1是列）\n",
    "        #因为刚才的0矩阵的维度要匹配上位置\n",
    "        div_term = torch.exp(torch.arange(0, d_model, 2) *#0到d_model中，每隔2个的数值，如\n",
    "                             -(math.log(10000.0) / d_model))\n",
    "        pe[:, 0::2] = torch.sin(position * div_term)\n",
    "        pe[:, 1::2] = torch.cos(position * div_term)\n",
    "        pe = pe.unsqueeze(0)\n",
    "        self.register_buffer('pe', pe)\n",
    "        \n",
    "    def forward(self, x):\n",
    "        x = x + Variable(self.pe[:, :x.size(1)], \n",
    "                         requires_grad=False)\n",
    "        return self.dropout(x)"
   ]
  },
  {
   "cell_type": "markdown",
   "metadata": {},
   "source": [
    "https://tensorflow.google.cn/tutorials/text/transformer\n",
    "<img src='https://tensorflow.google.cn/tutorials/text/transformer_files/output_1kLCla68EloE_1.png'>"
   ]
  },
  {
   "cell_type": "code",
   "execution_count": null,
   "metadata": {
    "execution": {
     "iopub.execute_input": "2021-10-23T02:26:26.055008Z",
     "iopub.status.busy": "2021-10-23T02:26:26.054695Z",
     "iopub.status.idle": "2021-10-23T02:26:26.320864Z",
     "shell.execute_reply": "2021-10-23T02:26:26.320097Z",
     "shell.execute_reply.started": "2021-10-23T02:26:26.054973Z"
    }
   },
   "outputs": [],
   "source": [
    "import matplotlib.pyplot as plt\n",
    "plt.figure(figsize=(15, 5))\n",
    "pe = PositionalEncoding(20,0)\n",
    "y = pe.forward(Variable(torch.zeros(1, 100, 20)))\n",
    "plt.plot(np.arange(100), y[0, :, 4:8].data.numpy())\n",
    "plt.legend([\"dim %d\"%p for p in [4,5,6,7]])\n",
    "None"
   ]
  },
  {
   "cell_type": "markdown",
   "metadata": {},
   "source": [
    "## selfAttention "
   ]
  },
  {
   "cell_type": "markdown",
   "metadata": {},
   "source": [
    "<img src=\"https://gitee.com/xu_kai_xuyouqian/picture-bed/raw/master/20211013122948.png\"/>\n",
    "<img src=\"https://gitee.com/xu_kai_xuyouqian/picture-bed/raw/master/20211013123436.png\"/>"
   ]
  },
  {
   "cell_type": "markdown",
   "metadata": {},
   "source": [
    "$$\n",
    "s = [a^1,a^2,a^3,a^4] =[4,300]\n",
    "$$\n",
    "\n",
    "$$\n",
    "q=k=v =[4,300] \\\\\n",
    "energy = q @ k ^T = [4, 4]\n",
    "$$\n"
   ]
  },
  {
   "cell_type": "markdown",
   "metadata": {},
   "source": [
    "矩阵形式\n",
    "$$\n",
    " \\left[ \\begin{matrix} q_1\\\\ q_2 \\\\ q_3 \\\\q_4 \\end{matrix} \\right] @\\left[ \\begin{matrix} k_1 & k_2 & k_3 & k_4 \\end{matrix} \\right] =\\left[ \\begin{matrix} a_{1,1} & a_{1,2} & a_{1,3} & a_{1,4}\\\\ a_{2,1} & a_{2,2} & a_{2,3} & a_{2,4}\\\\ a_{3,1} & a_{3,2} & a_{3,3} & a_{3,4}\\\\a_{4,1} & a_{4,2} & a_{4,3} & a_{4,4}\\end{matrix} \\right] \\\\​\\left[ \\begin{matrix} a_{1,1} & a_{1,2} & a_{1,3} & a_{1,4}\\\\ a_{2,1} & a_{2,2} & a_{2,3} & a_{2,4}\\\\ a_{3,1} & a_{3,2} & a_{3,3} & a_{3,4}\\\\a_{4,1} & a_{4,2} & a_{4,3} & a_{4,4}\\end{matrix} \\right] @\\left[ \\begin{matrix} v_1\\\\ v_2 \\\\ v_3 \\\\v_4 \\end{matrix} \\right]\n",
    "$$"
   ]
  },
  {
   "cell_type": "markdown",
   "metadata": {},
   "source": [
    "<img src=\"https://gitee.com/xu_kai_xuyouqian/picture-bed/raw/master/20211013130925.png\"/>"
   ]
  },
  {
   "cell_type": "code",
   "execution_count": null,
   "metadata": {
    "execution": {
     "iopub.execute_input": "2021-10-23T02:26:26.322422Z",
     "iopub.status.busy": "2021-10-23T02:26:26.322068Z",
     "iopub.status.idle": "2021-10-23T02:26:26.330284Z",
     "shell.execute_reply": "2021-10-23T02:26:26.329578Z",
     "shell.execute_reply.started": "2021-10-23T02:26:26.322392Z"
    }
   },
   "outputs": [],
   "source": [
    "def attention(query, key, value, mask=None, dropout=None):\n",
    "    \"Compute 'Scaled Dot Product Attention'\"\n",
    "    d_k = query.size(-1)\n",
    "    # batch size, head size, query len , head dim\n",
    "    # batch size, head size, key len , head dim\n",
    "    scores = torch.matmul(query, key.transpose(-2, -1)) / math.sqrt(d_k)\n",
    "    if mask is not None:\n",
    "        scores = scores.masked_fill(mask == 0, -1e9)\n",
    "    p_attn = F.softmax(scores, dim = -1)\n",
    "    if dropout is not None:\n",
    "        p_attn = dropout(p_attn)\n",
    "    return torch.matmul(p_attn, value), p_attn\n",
    "\n",
    "def clones(module, N):\n",
    "    \"Produce N identical layers.\"\n",
    "    return nn.ModuleList([copy.deepcopy(module) for _ in range(N)])\n"
   ]
  },
  {
   "cell_type": "code",
   "execution_count": null,
   "metadata": {
    "execution": {
     "iopub.execute_input": "2021-10-23T02:26:26.333019Z",
     "iopub.status.busy": "2021-10-23T02:26:26.332711Z",
     "iopub.status.idle": "2021-10-23T02:26:26.345945Z",
     "shell.execute_reply": "2021-10-23T02:26:26.345263Z",
     "shell.execute_reply.started": "2021-10-23T02:26:26.332967Z"
    }
   },
   "outputs": [],
   "source": [
    "class MultiHeadedAttention(nn.Module):\n",
    "    def __init__(self, h, d_model, dropout=0.1):\n",
    "        \"Take in model size and number of heads.\"\n",
    "        super(MultiHeadedAttention, self).__init__()\n",
    "        assert d_model % h == 0\n",
    "        # We assume d_v always equals d_k\n",
    "        self.d_k = d_model // h\n",
    "        self.h = h\n",
    "        self.linears = clones(nn.Linear(d_model, d_model), 4)\n",
    "        self.attn = None\n",
    "        self.dropout = nn.Dropout(p=dropout)\n",
    "        \n",
    "    def forward(self, query, key, value, mask=None):\n",
    "        \"\"\"\n",
    "        key len = value len\n",
    "        query = [batch size, query len, d_model]\n",
    "        key = [batch size, key len, d_model]\n",
    "        value = [batch size, value len, d_model]\n",
    "        mask = [batch size,1, key len] or [batch size, query len, key len]\n",
    "        \"\"\"\n",
    "        if mask is not None:\n",
    "            # Same mask applied to all h heads.\n",
    "            mask = mask.unsqueeze(1)\n",
    "        nbatches = query.size(0)\n",
    "        \n",
    "        # 1) Do all the linear projections in batch from d_model => h x d_k \n",
    "        query, key, value = \\\n",
    "            [l(x).view(nbatches, -1, self.h, self.d_k).transpose(1, 2)\n",
    "             for l, x in zip(self.linears, (query, key, value))]\n",
    "        \n",
    "        # 2) Apply attention on all the projected vectors in batch. \n",
    "        # x = batch size, h, query len, h_dim\n",
    "        x, self.attn = attention(query, key, value, mask=mask, \n",
    "                                 dropout=self.dropout)\n",
    "        \n",
    "        # 3) \"Concat\" using a view and apply a final linear. \n",
    "        x = x.transpose(1, 2).contiguous() \\\n",
    "             .view(nbatches, -1, self.h * self.d_k)\n",
    "        return self.linears[-1](x)"
   ]
  },
  {
   "cell_type": "markdown",
   "metadata": {},
   "source": [
    "## encoder"
   ]
  },
  {
   "cell_type": "markdown",
   "metadata": {},
   "source": [
    "### layernormal"
   ]
  },
  {
   "cell_type": "code",
   "execution_count": null,
   "metadata": {
    "execution": {
     "iopub.execute_input": "2021-10-23T02:26:26.348672Z",
     "iopub.status.busy": "2021-10-23T02:26:26.348343Z",
     "iopub.status.idle": "2021-10-23T02:26:26.36484Z",
     "shell.execute_reply": "2021-10-23T02:26:26.363868Z",
     "shell.execute_reply.started": "2021-10-23T02:26:26.348639Z"
    }
   },
   "outputs": [],
   "source": [
    "# layer normal 演示\n",
    "import torch\n",
    "from torch import nn\n",
    "output = torch.range(1, 24, dtype=torch.float32).contiguous().view(2, 3, 4)\n",
    "output[0][0][0] = 2\n",
    "output[-1][-1][-1] = 30\n",
    "print('*' * 20 + '原始数据' + '*' * 20)\n",
    "print(output)\n",
    "print('*' * 20 + 'layernormal结果' + '*' * 20)\n",
    "layernormal = nn.LayerNorm(4)(output)\n",
    "print(layernormal)\n",
    "mean = torch.mean(output, dim=2).unsqueeze(2)\n",
    "std = torch.std(output, dim=2).unsqueeze(2)\n",
    "print('*' * 20 + '手动layernormal结果' + '*' * 20)\n",
    "print((output - mean) / std * (2 / 3 ** (0.5)))\n",
    "'''\n",
    "\n",
    "********************原始数据********************\n",
    "tensor([[[ 2.,  2.,  3.,  4.],\n",
    "         [ 5.,  6.,  7.,  8.],\n",
    "         [ 9., 10., 11., 12.]],\n",
    "\n",
    "        [[13., 14., 15., 16.],\n",
    "         [17., 18., 19., 20.],\n",
    "         [21., 22., 23., 30.]]])\n",
    "********************layernormal结果********************\n",
    "tensor([[[-0.9045, -0.9045,  0.3015,  1.5075],\n",
    "         [-1.3416, -0.4472,  0.4472,  1.3416],\n",
    "         [-1.3416, -0.4472,  0.4472,  1.3416]],\n",
    "\n",
    "        [[-1.3416, -0.4472,  0.4472,  1.3416],\n",
    "         [-1.3416, -0.4472,  0.4472,  1.3416],\n",
    "         [-0.8485, -0.5657, -0.2828,  1.6971]]],\n",
    "       grad_fn=<NativeLayerNormBackward>)\n",
    "********************手动layernormal结果********************\n",
    "tensor([[[-0.9045, -0.9045,  0.3015,  1.5076],\n",
    "         [-1.3416, -0.4472,  0.4472,  1.3416],\n",
    "         [-1.3416, -0.4472,  0.4472,  1.3416]],\n",
    "\n",
    "        [[-1.3416, -0.4472,  0.4472,  1.3416],\n",
    "         [-1.3416, -0.4472,  0.4472,  1.3416],\n",
    "         [-0.8485, -0.5657, -0.2828,  1.6971]]])\n",
    "\n",
    "\n",
    "'''\n",
    "None"
   ]
  },
  {
   "cell_type": "code",
   "execution_count": null,
   "metadata": {
    "execution": {
     "iopub.execute_input": "2021-10-23T02:26:26.36671Z",
     "iopub.status.busy": "2021-10-23T02:26:26.366302Z",
     "iopub.status.idle": "2021-10-23T02:26:26.374962Z",
     "shell.execute_reply": "2021-10-23T02:26:26.374039Z",
     "shell.execute_reply.started": "2021-10-23T02:26:26.366662Z"
    }
   },
   "outputs": [],
   "source": [
    "class PositionwiseFeedForward(nn.Module):\n",
    "    \"Implements FFN equation.\"\n",
    "    def __init__(self, d_model, d_ff, dropout=0.1):\n",
    "        super(PositionwiseFeedForward, self).__init__()\n",
    "        self.w_1 = nn.Linear(d_model, d_ff)\n",
    "        self.w_2 = nn.Linear(d_ff, d_model)\n",
    "        self.dropout = nn.Dropout(dropout)\n",
    "\n",
    "    def forward(self, x):\n",
    "        return self.w_2(self.dropout(F.relu(self.w_1(x))))"
   ]
  },
  {
   "cell_type": "code",
   "execution_count": null,
   "metadata": {
    "execution": {
     "iopub.execute_input": "2021-10-23T02:26:26.376919Z",
     "iopub.status.busy": "2021-10-23T02:26:26.376591Z",
     "iopub.status.idle": "2021-10-23T02:26:26.385233Z",
     "shell.execute_reply": "2021-10-23T02:26:26.384519Z",
     "shell.execute_reply.started": "2021-10-23T02:26:26.376884Z"
    }
   },
   "outputs": [],
   "source": [
    "class SublayerConnection(nn.Module):\n",
    "    \"\"\"\n",
    "    A residual connection followed by a layer norm.\n",
    "    Note for code simplicity the norm is first as opposed to last.\n",
    "    \"\"\"\n",
    "    def __init__(self, size, dropout):\n",
    "        super(SublayerConnection, self).__init__()\n",
    "        self.norm = LayerNorm(size)\n",
    "        self.dropout = nn.Dropout(dropout)\n",
    "\n",
    "    def forward(self, x, sublayer):\n",
    "        \"Apply residual connection to any sublayer with the same size.\"\n",
    "        return x + self.dropout(sublayer(self.norm(x)))"
   ]
  },
  {
   "cell_type": "code",
   "execution_count": null,
   "metadata": {
    "execution": {
     "iopub.execute_input": "2021-10-23T02:26:26.38739Z",
     "iopub.status.busy": "2021-10-23T02:26:26.386391Z",
     "iopub.status.idle": "2021-10-23T02:26:26.396338Z",
     "shell.execute_reply": "2021-10-23T02:26:26.395559Z",
     "shell.execute_reply.started": "2021-10-23T02:26:26.387355Z"
    }
   },
   "outputs": [],
   "source": [
    "class EncoderLayer(nn.Module):\n",
    "    \"Encoder is made up of self-attn and feed forward (defined below)\"\n",
    "    def __init__(self, size, self_attn, feed_forward, dropout):\n",
    "        super(EncoderLayer, self).__init__()\n",
    "        self.self_attn = self_attn\n",
    "        self.feed_forward = feed_forward\n",
    "        self.sublayer = clones(SublayerConnection(size, dropout), 2)\n",
    "        self.size = size\n",
    "\n",
    "    def forward(self, x, mask):\n",
    "        \"Follow Figure 1 (left) for connections.\"\n",
    "        x = self.sublayer[0](x, lambda x: self.self_attn(x, x, x, mask))\n",
    "        return self.sublayer[1](x, self.feed_forward)"
   ]
  },
  {
   "cell_type": "code",
   "execution_count": null,
   "metadata": {
    "execution": {
     "iopub.execute_input": "2021-10-23T02:26:26.400963Z",
     "iopub.status.busy": "2021-10-23T02:26:26.400716Z",
     "iopub.status.idle": "2021-10-23T02:26:26.408311Z",
     "shell.execute_reply": "2021-10-23T02:26:26.407398Z",
     "shell.execute_reply.started": "2021-10-23T02:26:26.400914Z"
    }
   },
   "outputs": [],
   "source": [
    "class Encoder(nn.Module):\n",
    "    \"Core encoder is a stack of N layers\"\n",
    "    def __init__(self, layer, N):\n",
    "        super(Encoder, self).__init__()\n",
    "        self.layers = clones(layer, N)\n",
    "        self.norm = LayerNorm(layer.size)\n",
    "        \n",
    "    def forward(self, x, mask):\n",
    "        \"Pass the input (and mask) through each layer in turn.\"\n",
    "        for layer in self.layers:\n",
    "            x = layer(x, mask)\n",
    "        return self.norm(x)"
   ]
  },
  {
   "cell_type": "markdown",
   "metadata": {},
   "source": [
    "## decoder"
   ]
  },
  {
   "cell_type": "markdown",
   "metadata": {},
   "source": [
    "### decoder mask"
   ]
  },
  {
   "cell_type": "code",
   "execution_count": null,
   "metadata": {
    "execution": {
     "iopub.execute_input": "2021-10-23T02:26:26.409927Z",
     "iopub.status.busy": "2021-10-23T02:26:26.409537Z",
     "iopub.status.idle": "2021-10-23T02:26:26.419965Z",
     "shell.execute_reply": "2021-10-23T02:26:26.419143Z",
     "shell.execute_reply.started": "2021-10-23T02:26:26.409892Z"
    }
   },
   "outputs": [],
   "source": [
    "def subsequent_mask(size):\n",
    "    \"Mask out subsequent positions.\"\n",
    "    attn_shape = (1, size, size)\n",
    "    subsequent_mask = np.triu(np.ones(attn_shape), k=1).astype('uint8')\n",
    "    return torch.from_numpy(subsequent_mask) == 0\n",
    "print(subsequent_mask(4))\n",
    "'''\n",
    "tensor([[[ True, False, False, False],\n",
    "         [ True,  True, False, False],\n",
    "         [ True,  True,  True, False],\n",
    "         [ True,  True,  True,  True]]])\n",
    "'''\n",
    "None"
   ]
  },
  {
   "cell_type": "code",
   "execution_count": null,
   "metadata": {
    "execution": {
     "iopub.execute_input": "2021-10-23T02:26:26.426962Z",
     "iopub.status.busy": "2021-10-23T02:26:26.426705Z",
     "iopub.status.idle": "2021-10-23T02:26:26.43731Z",
     "shell.execute_reply": "2021-10-23T02:26:26.436617Z",
     "shell.execute_reply.started": "2021-10-23T02:26:26.426933Z"
    }
   },
   "outputs": [],
   "source": [
    "class DecoderLayer(nn.Module):\n",
    "    \"Decoder is made of self-attn, src-attn, and feed forward (defined below)\"\n",
    "    def __init__(self, size, self_attn, src_attn, feed_forward, dropout):\n",
    "        super(DecoderLayer, self).__init__()\n",
    "        self.size = size\n",
    "        self.self_attn = self_attn\n",
    "        self.src_attn = src_attn\n",
    "        self.feed_forward = feed_forward\n",
    "        self.sublayer = clones(SublayerConnection(size, dropout), 3)\n",
    " \n",
    "    def forward(self, x, memory, src_mask, tgt_mask):\n",
    "        \"\"\"\n",
    "        x: decoder input\n",
    "        memory: encoder output\n",
    "        \"\"\"\n",
    "        m = memory\n",
    "        x = self.sublayer[0](x, lambda x: self.self_attn(x, x, x, tgt_mask))\n",
    "        x = self.sublayer[1](x, lambda x: self.src_attn(x, m, m, src_mask))\n",
    "        return self.sublayer[2](x, self.feed_forward)"
   ]
  },
  {
   "cell_type": "code",
   "execution_count": null,
   "metadata": {
    "execution": {
     "iopub.execute_input": "2021-10-23T02:26:26.440704Z",
     "iopub.status.busy": "2021-10-23T02:26:26.440399Z",
     "iopub.status.idle": "2021-10-23T02:26:26.447763Z",
     "shell.execute_reply": "2021-10-23T02:26:26.447036Z",
     "shell.execute_reply.started": "2021-10-23T02:26:26.440648Z"
    }
   },
   "outputs": [],
   "source": [
    "class Decoder(nn.Module):\n",
    "    \"Generic N layer decoder with masking.\"\n",
    "    def __init__(self, layer, N):\n",
    "        super(Decoder, self).__init__()\n",
    "        self.layers = clones(layer, N)\n",
    "        self.norm = LayerNorm(layer.size)\n",
    "        \n",
    "    def forward(self, x, memory, src_mask, tgt_mask):\n",
    "        for layer in self.layers:\n",
    "            x = layer(x, memory, src_mask, tgt_mask)\n",
    "        return self.norm(x)"
   ]
  },
  {
   "cell_type": "markdown",
   "metadata": {},
   "source": [
    "## 全连接"
   ]
  },
  {
   "cell_type": "code",
   "execution_count": null,
   "metadata": {
    "execution": {
     "iopub.execute_input": "2021-10-23T02:26:26.449428Z",
     "iopub.status.busy": "2021-10-23T02:26:26.449031Z",
     "iopub.status.idle": "2021-10-23T02:26:26.456434Z",
     "shell.execute_reply": "2021-10-23T02:26:26.455672Z",
     "shell.execute_reply.started": "2021-10-23T02:26:26.449393Z"
    }
   },
   "outputs": [],
   "source": [
    "class Generator(nn.Module):\n",
    "    \"Define standard linear + softmax generation step.\"\n",
    "    def __init__(self, d_model, vocab):\n",
    "        super(Generator, self).__init__()\n",
    "        self.proj = nn.Linear(d_model, vocab)\n",
    "\n",
    "    def forward(self, x):\n",
    "        return F.log_softmax(self.proj(x), dim=-1)"
   ]
  },
  {
   "cell_type": "markdown",
   "metadata": {},
   "source": [
    "## 完整模型"
   ]
  },
  {
   "cell_type": "code",
   "execution_count": null,
   "metadata": {
    "execution": {
     "iopub.execute_input": "2021-10-23T02:26:26.458361Z",
     "iopub.status.busy": "2021-10-23T02:26:26.458014Z",
     "iopub.status.idle": "2021-10-23T02:26:26.467072Z",
     "shell.execute_reply": "2021-10-23T02:26:26.466213Z",
     "shell.execute_reply.started": "2021-10-23T02:26:26.458272Z"
    }
   },
   "outputs": [],
   "source": [
    "class EncoderDecoder(nn.Module):\n",
    "    \"\"\"\n",
    "    A standard Encoder-Decoder architecture. Base for this and many \n",
    "    other models.\n",
    "    \"\"\"\n",
    "    def __init__(self, encoder, decoder, src_embed, tgt_embed, generator):\n",
    "        super(EncoderDecoder, self).__init__()\n",
    "        self.encoder = encoder\n",
    "        self.decoder = decoder\n",
    "        self.src_embed = src_embed\n",
    "        self.tgt_embed = tgt_embed\n",
    "        self.generator = generator\n",
    "        \n",
    "    def forward(self, src, tgt, src_mask, tgt_mask):\n",
    "        \"Take in and process masked src and target sequences.\"\n",
    "        return self.decode(self.encode(src, src_mask), src_mask,\n",
    "                            tgt, tgt_mask)\n",
    "    \n",
    "    def encode(self, src, src_mask):\n",
    "        return self.encoder(self.src_embed(src), src_mask)\n",
    "    \n",
    "    def decode(self, memory, src_mask, tgt, tgt_mask):\n",
    "        return self.decoder(self.tgt_embed(tgt), memory, src_mask, tgt_mask)"
   ]
  },
  {
   "cell_type": "markdown",
   "metadata": {
    "execution": {
     "iopub.execute_input": "2021-10-20T07:21:10.373845Z",
     "iopub.status.busy": "2021-10-20T07:21:10.373479Z",
     "iopub.status.idle": "2021-10-20T07:21:10.381429Z",
     "shell.execute_reply": "2021-10-20T07:21:10.380757Z",
     "shell.execute_reply.started": "2021-10-20T07:21:10.37381Z"
    }
   },
   "source": [
    "## 创建模型"
   ]
  },
  {
   "cell_type": "code",
   "execution_count": null,
   "metadata": {
    "execution": {
     "iopub.execute_input": "2021-10-23T02:26:26.468962Z",
     "iopub.status.busy": "2021-10-23T02:26:26.468711Z",
     "iopub.status.idle": "2021-10-23T02:26:26.478576Z",
     "shell.execute_reply": "2021-10-23T02:26:26.477878Z",
     "shell.execute_reply.started": "2021-10-23T02:26:26.468931Z"
    }
   },
   "outputs": [],
   "source": [
    "def make_model(src_vocab, tgt_vocab, N=6, \n",
    "               d_model=512, d_ff=2048, h=8, dropout=0.1):\n",
    "    \"Helper: Construct a model from hyperparameters.\"\n",
    "    c = copy.deepcopy\n",
    "    attn = MultiHeadedAttention(h, d_model)\n",
    "    ff = PositionwiseFeedForward(d_model, d_ff, dropout)\n",
    "    position = PositionalEncoding(d_model, dropout)\n",
    "    model = EncoderDecoder(\n",
    "        Encoder(EncoderLayer(d_model, c(attn), c(ff), dropout), N),\n",
    "        Decoder(DecoderLayer(d_model, c(attn), c(attn), c(ff), dropout), N),\n",
    "        nn.Sequential(Embeddings(d_model, src_vocab), c(position)),\n",
    "        nn.Sequential(Embeddings(d_model, tgt_vocab), c(position)),\n",
    "        Generator(d_model, tgt_vocab))\n",
    "    \n",
    "    # This was important from their code. \n",
    "    # Initialize parameters with Glorot / fan_avg.\n",
    "    for p in model.parameters():\n",
    "        if p.dim() > 1:\n",
    "            nn.init.xavier_uniform(p)\n",
    "    return model"
   ]
  },
  {
   "cell_type": "markdown",
   "metadata": {
    "execution": {
     "iopub.execute_input": "2021-10-20T07:21:10.395323Z",
     "iopub.status.busy": "2021-10-20T07:21:10.395086Z",
     "iopub.status.idle": "2021-10-20T07:21:10.403419Z",
     "shell.execute_reply": "2021-10-20T07:21:10.402668Z",
     "shell.execute_reply.started": "2021-10-20T07:21:10.395289Z"
    }
   },
   "source": [
    "## batch"
   ]
  },
  {
   "cell_type": "code",
   "execution_count": null,
   "metadata": {
    "execution": {
     "iopub.execute_input": "2021-10-23T02:26:26.480254Z",
     "iopub.status.busy": "2021-10-23T02:26:26.479979Z",
     "iopub.status.idle": "2021-10-23T02:26:26.489139Z",
     "shell.execute_reply": "2021-10-23T02:26:26.488184Z",
     "shell.execute_reply.started": "2021-10-23T02:26:26.480219Z"
    }
   },
   "outputs": [],
   "source": [
    "class Batch:\n",
    "    \"Object for holding a batch of data with mask during training.\"\n",
    "    def __init__(self, src, trg=None, pad=0):\n",
    "        \"\"\"\n",
    "        src = batch size, seq len\n",
    "        \n",
    "        \"\"\"\n",
    "        self.src = src\n",
    "        # src_mask = batch size, 1, seq len\n",
    "        self.src_mask = (src != pad).unsqueeze(-2)\n",
    "        if trg is not None:\n",
    "            self.trg = trg[:, :-1]\n",
    "            self.trg_y = trg[:, 1:]\n",
    "            self.trg_mask = \\\n",
    "                self.make_std_mask(self.trg, pad)\n",
    "            self.ntokens = (self.trg_y != pad).data.sum()\n",
    "    \n",
    "    @staticmethod\n",
    "    def make_std_mask(tgt, pad):\n",
    "        \"Create a mask to hide padding and future words.\"\n",
    "        tgt_mask = (tgt != pad).unsqueeze(-2)\n",
    "        tgt_mask = tgt_mask & Variable(\n",
    "            subsequent_mask(tgt.size(-1)).type_as(tgt_mask.data))\n",
    "        return tgt_mask"
   ]
  },
  {
   "cell_type": "markdown",
   "metadata": {
    "execution": {
     "iopub.execute_input": "2021-10-20T07:21:10.418983Z",
     "iopub.status.busy": "2021-10-20T07:21:10.418405Z",
     "iopub.status.idle": "2021-10-20T07:21:10.427169Z",
     "shell.execute_reply": "2021-10-20T07:21:10.426444Z",
     "shell.execute_reply.started": "2021-10-20T07:21:10.418913Z"
    }
   },
   "source": [
    "## warm up"
   ]
  },
  {
   "cell_type": "code",
   "execution_count": null,
   "metadata": {
    "execution": {
     "iopub.execute_input": "2021-10-23T02:26:26.491067Z",
     "iopub.status.busy": "2021-10-23T02:26:26.490772Z",
     "iopub.status.idle": "2021-10-23T02:26:26.502017Z",
     "shell.execute_reply": "2021-10-23T02:26:26.501303Z",
     "shell.execute_reply.started": "2021-10-23T02:26:26.490996Z"
    }
   },
   "outputs": [],
   "source": [
    "class NoamOpt:\n",
    "    \"Optim wrapper that implements rate.\"\n",
    "    def __init__(self, model_size, factor, warmup, optimizer):\n",
    "        self.optimizer = optimizer\n",
    "        self._step = 0\n",
    "        self.warmup = warmup\n",
    "        self.factor = factor\n",
    "        self.model_size = model_size\n",
    "        self._rate = 0\n",
    "        \n",
    "    def step(self):\n",
    "        \"Update parameters and rate\"\n",
    "        self._step += 1\n",
    "        rate = self.rate()\n",
    "        for p in self.optimizer.param_groups:\n",
    "            p['lr'] = rate\n",
    "        self._rate = rate\n",
    "        self.optimizer.step()\n",
    "        \n",
    "    def rate(self, step = None):\n",
    "        \"Implement `lrate` above\"\n",
    "        if step is None:\n",
    "            step = self._step\n",
    "        return self.factor * \\\n",
    "            (self.model_size ** (-0.5) *\n",
    "            min(step ** (-0.5), step * self.warmup ** (-1.5)))\n",
    "        \n",
    "def get_std_opt(model):\n",
    "    return NoamOpt(model.src_embed[0].d_model, 2, 4000,\n",
    "            torch.optim.Adam(model.parameters(), lr=0, betas=(0.9, 0.98), eps=1e-9))"
   ]
  },
  {
   "cell_type": "code",
   "execution_count": null,
   "metadata": {
    "execution": {
     "iopub.execute_input": "2021-10-23T02:26:26.503726Z",
     "iopub.status.busy": "2021-10-23T02:26:26.503314Z",
     "iopub.status.idle": "2021-10-23T02:26:27.059683Z",
     "shell.execute_reply": "2021-10-23T02:26:27.058986Z",
     "shell.execute_reply.started": "2021-10-23T02:26:26.503693Z"
    }
   },
   "outputs": [],
   "source": [
    "# Three settings of the lrate hyperparameters.\n",
    "opts = [NoamOpt(512, 1, 4000, None), \n",
    "        NoamOpt(512, 1, 8000, None),\n",
    "        NoamOpt(256, 1, 4000, None)]\n",
    "plt.plot(np.arange(1, 20000), [[opt.rate(i) for opt in opts] for i in range(1, 20000)])\n",
    "plt.legend([\"512:4000\", \"512:8000\", \"256:4000\"])\n",
    "None"
   ]
  },
  {
   "cell_type": "markdown",
   "metadata": {
    "execution": {
     "iopub.execute_input": "2021-10-20T07:21:10.451682Z",
     "iopub.status.busy": "2021-10-20T07:21:10.451401Z",
     "iopub.status.idle": "2021-10-20T07:21:10.459339Z",
     "shell.execute_reply": "2021-10-20T07:21:10.458314Z",
     "shell.execute_reply.started": "2021-10-20T07:21:10.451648Z"
    }
   },
   "source": [
    "## 标签平滑"
   ]
  },
  {
   "cell_type": "markdown",
   "metadata": {
    "execution": {
     "iopub.execute_input": "2021-10-20T07:21:10.461021Z",
     "iopub.status.busy": "2021-10-20T07:21:10.460555Z",
     "iopub.status.idle": "2021-10-20T07:21:10.468377Z",
     "shell.execute_reply": "2021-10-20T07:21:10.467441Z",
     "shell.execute_reply.started": "2021-10-20T07:21:10.460986Z"
    }
   },
   "source": [
    "``` python\n",
    "预测softmax_res = [0.1, 0.3, 0.6]\n",
    "真实结果是[2] -->[0,0,1]\n",
    "如果不做平滑直接是这两者计算交叉信息熵\n",
    "如果做了平滑可以把真实结果修改为\n",
    "[0.1,0.1,0.8]\n",
    "计算他们的kl散度\n",
    "```"
   ]
  },
  {
   "cell_type": "code",
   "execution_count": null,
   "metadata": {
    "execution": {
     "iopub.execute_input": "2021-10-23T02:26:27.061304Z",
     "iopub.status.busy": "2021-10-23T02:26:27.061038Z",
     "iopub.status.idle": "2021-10-23T02:26:27.069447Z",
     "shell.execute_reply": "2021-10-23T02:26:27.068806Z",
     "shell.execute_reply.started": "2021-10-23T02:26:27.061272Z"
    }
   },
   "outputs": [],
   "source": [
    "class LabelSmoothing(nn.Module):\n",
    "    \"Implement label smoothing.\"\n",
    "    def __init__(self, size, padding_idx, smoothing=0.0):\n",
    "        super(LabelSmoothing, self).__init__()\n",
    "        self.criterion = nn.KLDivLoss(size_average=False)\n",
    "        self.padding_idx = padding_idx\n",
    "        self.confidence = 1.0 - smoothing\n",
    "        self.smoothing = smoothing\n",
    "        self.size = size\n",
    "        self.true_dist = None\n",
    "        \n",
    "    def forward(self, x, target):\n",
    "        assert x.size(1) == self.size\n",
    "        true_dist = x.data.clone()\n",
    "        true_dist.fill_(self.smoothing / (self.size - 2))\n",
    "        true_dist.scatter_(1, target.data.unsqueeze(1), self.confidence)\n",
    "        true_dist[:, self.padding_idx] = 0\n",
    "        mask = torch.nonzero(target.data == self.padding_idx)\n",
    "        if mask.dim() > 0:\n",
    "            true_dist.index_fill_(0, mask.squeeze(), 0.0)\n",
    "        self.true_dist = true_dist\n",
    "        return self.criterion(x, Variable(true_dist, requires_grad=False))"
   ]
  },
  {
   "cell_type": "markdown",
   "metadata": {},
   "source": [
    "## 计算损失"
   ]
  },
  {
   "cell_type": "code",
   "execution_count": null,
   "metadata": {
    "execution": {
     "iopub.execute_input": "2021-10-23T02:26:27.071233Z",
     "iopub.status.busy": "2021-10-23T02:26:27.070786Z",
     "iopub.status.idle": "2021-10-23T02:26:27.07927Z",
     "shell.execute_reply": "2021-10-23T02:26:27.078589Z",
     "shell.execute_reply.started": "2021-10-23T02:26:27.071201Z"
    }
   },
   "outputs": [],
   "source": [
    "class SimpleLossCompute:\n",
    "    \"A simple loss compute and train function.\"\n",
    "    def __init__(self, generator, criterion, opt=None):\n",
    "        self.generator = generator\n",
    "        self.criterion = criterion\n",
    "        self.opt = opt\n",
    "        \n",
    "    def __call__(self, x, y, norm):\n",
    "        \"\"\"\n",
    "        norm 非pad的单词个数\n",
    "        \"\"\"\n",
    "        x = self.generator(x)\n",
    "        loss = self.criterion(x.contiguous().view(-1, x.size(-1)), y.contiguous().view(-1)) / norm\n",
    "        loss.backward()\n",
    "        if self.opt is not None:\n",
    "            self.opt.step()\n",
    "            self.opt.optimizer.zero_grad()\n",
    "        return loss.item() * norm"
   ]
  },
  {
   "cell_type": "markdown",
   "metadata": {
    "execution": {
     "iopub.execute_input": "2021-10-20T07:21:10.490676Z",
     "iopub.status.busy": "2021-10-20T07:21:10.490415Z",
     "iopub.status.idle": "2021-10-20T07:21:10.499847Z",
     "shell.execute_reply": "2021-10-20T07:21:10.498855Z",
     "shell.execute_reply.started": "2021-10-20T07:21:10.490645Z"
    }
   },
   "source": [
    "## 训练单个epoch"
   ]
  },
  {
   "cell_type": "code",
   "execution_count": null,
   "metadata": {
    "execution": {
     "iopub.execute_input": "2021-10-23T02:26:27.080924Z",
     "iopub.status.busy": "2021-10-23T02:26:27.080646Z",
     "iopub.status.idle": "2021-10-23T02:26:27.089357Z",
     "shell.execute_reply": "2021-10-23T02:26:27.088686Z",
     "shell.execute_reply.started": "2021-10-23T02:26:27.080891Z"
    }
   },
   "outputs": [],
   "source": [
    "def run_epoch(data_iter, model, loss_compute):\n",
    "    \"Standard Training and Logging Function\"\n",
    "    start = time.time()\n",
    "    total_tokens = 0\n",
    "    total_loss = 0\n",
    "    tokens = 0\n",
    "    for i, batch in enumerate(data_iter):\n",
    "        out = model.forward(batch.src, batch.trg, batch.src_mask, batch.trg_mask)\n",
    "        loss = loss_compute(out, batch.trg_y, batch.ntokens)\n",
    "        total_loss += loss\n",
    "        total_tokens += batch.ntokens\n",
    "        tokens += batch.ntokens\n",
    "        if i % 50 == 1:\n",
    "            elapsed = time.time() - start\n",
    "            print(\"Epoch Step: %d Loss: %f Tokens per Sec: %f\" %\n",
    "                    (i, loss / batch.ntokens, tokens / elapsed))\n",
    "            start = time.time()\n",
    "            tokens = 0\n",
    "    return total_loss / total_tokens"
   ]
  },
  {
   "cell_type": "markdown",
   "metadata": {},
   "source": [
    "## 模拟训练"
   ]
  },
  {
   "cell_type": "code",
   "execution_count": null,
   "metadata": {
    "execution": {
     "iopub.execute_input": "2021-10-23T02:26:27.091032Z",
     "iopub.status.busy": "2021-10-23T02:26:27.090772Z",
     "iopub.status.idle": "2021-10-23T02:26:27.101215Z",
     "shell.execute_reply": "2021-10-23T02:26:27.100226Z",
     "shell.execute_reply.started": "2021-10-23T02:26:27.090998Z"
    }
   },
   "outputs": [],
   "source": [
    "def data_gen(V, batch, nbatches):\n",
    "    \"Generate random data for a src-tgt copy task.\"\n",
    "    \"\"\"\n",
    "    V : 词汇表长度\n",
    "    nbatches : 有多少个batch\n",
    "    batch：batch size\n",
    "    \"\"\"\n",
    "    for i in range(nbatches):\n",
    "        # 10 是句子长度\n",
    "        data = torch.from_numpy(np.random.randint(1, V, size=(batch, 10)))\n",
    "        data[:, 0] = 1\n",
    "        src = Variable(data, requires_grad=False)\n",
    "        tgt = Variable(data, requires_grad=False)\n",
    "        yield Batch(src, tgt, 0)"
   ]
  },
  {
   "cell_type": "code",
   "execution_count": null,
   "metadata": {
    "execution": {
     "iopub.execute_input": "2021-10-23T02:26:27.102776Z",
     "iopub.status.busy": "2021-10-23T02:26:27.102496Z",
     "iopub.status.idle": "2021-10-23T02:27:54.479005Z",
     "shell.execute_reply": "2021-10-23T02:27:54.478113Z",
     "shell.execute_reply.started": "2021-10-23T02:26:27.102742Z"
    }
   },
   "outputs": [],
   "source": [
    "V = 11  # vocabulary size\n",
    "criterion = LabelSmoothing(size=V, padding_idx=0, smoothing=0.0)\n",
    "model = make_model(V, V, N=2)\n",
    "model_opt = NoamOpt(model.src_embed[0].d_model, 1, 400,\n",
    "        torch.optim.Adam(model.parameters(), lr=0, betas=(0.9, 0.98), eps=1e-9))\n",
    "\n",
    "for epoch in range(10):\n",
    "    model.train()\n",
    "    run_epoch(data_gen(V, 30, 20), model, \n",
    "              SimpleLossCompute(model.generator, criterion, model_opt))\n",
    "    model.eval()\n",
    "    print(run_epoch(data_gen(V, 30, 5), model, \n",
    "                    SimpleLossCompute(model.generator, criterion, None)))"
   ]
  },
  {
   "cell_type": "markdown",
   "metadata": {},
   "source": [
    "## 贪心解码"
   ]
  },
  {
   "cell_type": "code",
   "execution_count": null,
   "metadata": {
    "execution": {
     "iopub.execute_input": "2021-10-23T02:27:54.483197Z",
     "iopub.status.busy": "2021-10-23T02:27:54.482861Z",
     "iopub.status.idle": "2021-10-23T02:27:54.605353Z",
     "shell.execute_reply": "2021-10-23T02:27:54.604601Z",
     "shell.execute_reply.started": "2021-10-23T02:27:54.483169Z"
    }
   },
   "outputs": [],
   "source": [
    "def greedy_decode(model, src, src_mask, max_len, start_symbol):\n",
    "    memory = model.encode(src, src_mask)\n",
    "    batch_size, _ = src.shape\n",
    "    ys = torch.ones(batch_size, 1).fill_(start_symbol).type_as(src.data)\n",
    "\n",
    "    for i in range(max_len-1):\n",
    "        out = model.decode(memory, src_mask, \n",
    "                           Variable(ys), \n",
    "                           Variable(subsequent_mask(ys.size(1))\n",
    "                                    .type_as(src.data)))\n",
    "        \n",
    "        # prob = batch size, vocab size\n",
    "        prob = model.generator(out[:, -1])\n",
    "        _, next_word = torch.max(prob, dim = -1)\n",
    "        \n",
    "        ys = torch.cat([ys, next_word.unsqueeze(1)], dim=-1)\n",
    "    return ys\n",
    "\n",
    "src = Variable(torch.LongTensor([[1,2,3,4,5,6,7,8,9,10],\n",
    "                                 [1,2,3,4,8,6,7,8,9,10]\n",
    "                                ]) )\n",
    "src_mask = Variable(torch.ones(2, 1, 10) )\n",
    "print(src_mask)\n",
    "print(greedy_decode(model, src, src_mask, max_len=10, start_symbol=1)[0])"
   ]
  },
  {
   "cell_type": "markdown",
   "metadata": {},
   "source": [
    "## beam search 解码"
   ]
  },
  {
   "cell_type": "code",
   "execution_count": null,
   "metadata": {
    "execution": {
     "iopub.execute_input": "2021-10-23T02:27:54.607655Z",
     "iopub.status.busy": "2021-10-23T02:27:54.606564Z",
     "iopub.status.idle": "2021-10-23T02:27:54.616064Z",
     "shell.execute_reply": "2021-10-23T02:27:54.615151Z",
     "shell.execute_reply.started": "2021-10-23T02:27:54.607615Z"
    }
   },
   "outputs": [],
   "source": [
    "class Hypothesis:\n",
    "    \"\"\"\n",
    "    保存beamsearch 的备选方案\n",
    "    \"\"\"\n",
    "\n",
    "    def __init__(self, tokens, log_probs):\n",
    "        self.tokens = tokens  # list of all the tokens from time 0 to the current time step t\n",
    "        self.log_probs = log_probs  # list of the log probabilities of the tokens of the tokens\n",
    "\n",
    "    def extend(self, token, log_prob):\n",
    "        \"\"\"\n",
    "        Method to extend the current hypothesis by adding the next decoded token and all the informations associated with it\n",
    "        \"\"\"\n",
    "        return Hypothesis(tokens=torch.cat([self.tokens, token]),  # we add the decoded token\n",
    "                          log_probs=self.log_probs + [log_prob],  # we add the log prob of the decoded token\n",
    "                          )\n",
    "\n",
    "    @property\n",
    "    def latest_token(self):\n",
    "        return self.tokens[-1]\n",
    "\n",
    "    @property\n",
    "    def tot_log_prob(self):\n",
    "        return sum(self.log_probs)\n",
    "\n",
    "    @property\n",
    "    def avg_log_prob(self):\n",
    "        return self.tot_log_prob / len(self.tokens)\n",
    "\n",
    "def get_top_k_beam(prediction, k):\n",
    "    top_k_probs, top_k_ids = nn.functional.softmax(prediction, 0).topk(k)\n",
    "\n",
    "    top_k_log_probs = torch.log(top_k_probs)\n",
    "    return top_k_log_probs, top_k_ids"
   ]
  },
  {
   "cell_type": "code",
   "execution_count": null,
   "metadata": {
    "execution": {
     "iopub.execute_input": "2021-10-23T02:27:54.617671Z",
     "iopub.status.busy": "2021-10-23T02:27:54.61735Z",
     "iopub.status.idle": "2021-10-23T02:27:54.63314Z",
     "shell.execute_reply": "2021-10-23T02:27:54.632263Z",
     "shell.execute_reply.started": "2021-10-23T02:27:54.617638Z"
    }
   },
   "outputs": [],
   "source": [
    "def beam_search(model, src, src_mask, max_len, start_symbol, beam_size, device):\n",
    "    # memory = batch size, src len, d_model\n",
    "    memory = model.encode(src, src_mask)\n",
    "    batch_size, _ = src.shape\n",
    "    all_tokens = []\n",
    "    for batch in tqdm(range(batch_size)):\n",
    "        batch_memory = memory[batch]\n",
    "        batch_src_mask = src_mask[batch]\n",
    "\n",
    "        tokens = beam_search_single_batch(model, batch_memory, batch_src_mask,\n",
    "                                                  beam_size, start_symbol, max_len, device)\n",
    "        \n",
    "        all_tokens.append(tokens)\n",
    "    all_tokens = torch.stack(all_tokens)\n",
    "    return all_tokens"
   ]
  },
  {
   "cell_type": "code",
   "execution_count": null,
   "metadata": {
    "execution": {
     "iopub.execute_input": "2021-10-23T02:27:54.635112Z",
     "iopub.status.busy": "2021-10-23T02:27:54.634714Z",
     "iopub.status.idle": "2021-10-23T02:27:54.647619Z",
     "shell.execute_reply": "2021-10-23T02:27:54.64653Z",
     "shell.execute_reply.started": "2021-10-23T02:27:54.635072Z"
    }
   },
   "outputs": [],
   "source": [
    "def beam_search_single_batch(model, memory, src_mask, beam_size, start_symbol, max_len, device):\n",
    "    \"\"\"\n",
    "    memory = [src len, d_model]\n",
    "    \"\"\"\n",
    "    # memory = [beam size, src len, d_model]\n",
    "    memory = memory.unsqueeze(0).repeat(beam_size, 1, 1)\n",
    "    hys = [Hypothesis(torch.LongTensor([start_symbol]).to(device), [0]) for _ in range(beam_size)]\n",
    "    \n",
    "    for i in range(max_len-1):\n",
    "        # beam_input = [beam size, decoded len]\n",
    "        beam_input = torch.stack([h.tokens for h in hys])\n",
    "        trg_mask= subsequent_mask(beam_input.size(1)).type_as(memory.data)\n",
    "        \n",
    "        out = model.decode(memory, src_mask, beam_input, trg_mask)\n",
    "        probs = model.generator(out[:,-1])  # beam size, vocab size\n",
    "        \n",
    "        # 把之前的最优解再扩展一个词，先要获取之前最优解的个数\n",
    "        num_ori_hyps = 1 if i == 0 else len(hys)\n",
    " \n",
    "        # 创建列表保存新的结果\n",
    "        all_hyps = []\n",
    "        \n",
    "        # 遍历添加所有可能结果\n",
    "        for j in range(num_ori_hyps):\n",
    "            prob = probs[j, :]\n",
    "            top_k_log_probs, top_k_ids = get_top_k_beam(prob, beam_size)\n",
    "            \n",
    "            for log_prob, top_k_id in zip(top_k_log_probs, top_k_ids):\n",
    "                top_k_id = top_k_id.view(-1)\n",
    "                new_hys = hys[j].extend(top_k_id, log_prob)\n",
    "                all_hyps.append(new_hys)\n",
    "        \n",
    "        \n",
    "        # 重置\n",
    "        hys = []\n",
    "        # 按照概率来排序\n",
    "        sorted_hyps = sorted(all_hyps, key = lambda h:h.avg_log_prob, reverse=True)\n",
    "        hys = sorted_hyps[:beam_size]\n",
    "    \n",
    "    tokens = hys[0].tokens\n",
    "    return tokens\n",
    "        "
   ]
  },
  {
   "cell_type": "markdown",
   "metadata": {},
   "source": [
    "## 数据准备"
   ]
  },
  {
   "cell_type": "code",
   "execution_count": null,
   "metadata": {
    "execution": {
     "iopub.execute_input": "2021-10-23T02:27:54.649793Z",
     "iopub.status.busy": "2021-10-23T02:27:54.649237Z",
     "iopub.status.idle": "2021-10-23T02:27:54.667167Z",
     "shell.execute_reply": "2021-10-23T02:27:54.666381Z",
     "shell.execute_reply.started": "2021-10-23T02:27:54.649738Z"
    }
   },
   "outputs": [],
   "source": [
    "class MyDataset(data.Dataset):\n",
    "\n",
    "    def __init__(self, datatuple, text_field, label_field, test=False):  # datatuple指的是元组('this moive is great',1)\n",
    "        fields = [(\"text\", text_field), (\"label\", label_field)]\n",
    "        lists = []\n",
    "        for content, label in tqdm(datatuple):\n",
    "            # Example: Defines a single training or test example.Stores each column of the example as an attribute.\n",
    "            lists.append(data.Example.fromlist([content, label], fields))\n",
    "        # 之前是一些预处理操作，此处调用super初始化父类，构造自定义的Dataset类\n",
    "        super().__init__(lists, fields)\n",
    "\n",
    "\n",
    "def read_data(path):\n",
    "    data_list = []\n",
    "    with open(path,encoding=\"utf-8\") as F:\n",
    "        for line in F:\n",
    "            line = line.split(\"\\t\")\n",
    "            text = line[0]\n",
    "            label = line[-1].strip().replace(' ','')\n",
    "            data_list.append((text,label))\n",
    "        return data_list\n",
    "           \n",
    "\n",
    "\n",
    "    \n",
    "def prepare_data_iter(config):\n",
    "    train_data_lists = read_data(config.training_path)\n",
    "    test_data_list = read_data(config.testing_path)\n",
    "    validation_data_list = read_data(config.validation_path)\n",
    "    \n",
    "    SRC = Field(tokenize=lambda x: x.split(), init_token=config.init_token, eos_token=config.eos_token,\n",
    "                fix_length=config.fix_length)\n",
    "    \n",
    "    SRC = Field(tokenize=lambda x: x.split(), \n",
    "                fix_length=config.fix_length)\n",
    "\n",
    "    LABEL = Field(tokenize=jieba.lcut, init_token=config.init_token, eos_token=config.eos_token,\n",
    "                  fix_length=config.fix_length)\n",
    "\n",
    "    train_dataset = MyDataset(train_data_lists, SRC, LABEL)\n",
    "    test_dataset = MyDataset(test_data_list, SRC, LABEL)\n",
    "    valid_dataset = MyDataset(validation_data_list,SRC,LABEL)\n",
    "\n",
    "#     SRC.build_vocab(train_dataset,min_freq = 2)  # '<unk>':0,'<sos>':1,'i':2\n",
    "#     LABEL.build_vocab(train_dataset,min_freq = 2)\n",
    "    SRC.build_vocab(train_dataset)  \n",
    "    LABEL.build_vocab(train_dataset)\n",
    "    \n",
    "    train_iter = data.BucketIterator(dataset=train_dataset, batch_size=config.batch_size,\n",
    "                                     shuffle=True, sort_key=lambda x: len(x.text),\n",
    "                                      sort_within_batch=False, repeat=False, device = config.device)\n",
    "\n",
    "    test_iter = data.BucketIterator(dataset=test_dataset, batch_size=config.batch_size,\n",
    "                                     shuffle=False, sort_key=lambda x: len(x.text),\n",
    "                                      sort_within_batch=False, repeat=False, device = config.device)\n",
    "    valid_iter = data.BucketIterator(dataset=valid_dataset, batch_size=config.batch_size,\n",
    "                                     shuffle=False, sort_key=lambda x: len(x.text),\n",
    "                                      sort_within_batch=False, repeat=False, device = config.device)\n",
    "    return train_iter, test_iter, valid_iter, SRC, LABEL"
   ]
  },
  {
   "cell_type": "markdown",
   "metadata": {},
   "source": [
    "## 数字转文字"
   ]
  },
  {
   "cell_type": "code",
   "execution_count": null,
   "metadata": {
    "execution": {
     "iopub.execute_input": "2021-10-23T02:27:54.66886Z",
     "iopub.status.busy": "2021-10-23T02:27:54.668218Z",
     "iopub.status.idle": "2021-10-23T02:27:54.679616Z",
     "shell.execute_reply": "2021-10-23T02:27:54.678717Z",
     "shell.execute_reply.started": "2021-10-23T02:27:54.66881Z"
    }
   },
   "outputs": [],
   "source": [
    "def tokens2sentence(preds, LABEL):\n",
    "    sentences = []\n",
    "    for tokens in preds:\n",
    "        sentence = []\n",
    "        for token in tokens:\n",
    "            word = LABEL.vocab.itos[int(token.item())]\n",
    "            \n",
    "            if word == '<eos>':\n",
    "                break\n",
    "            sentence.append(word)\n",
    "        sentences.append(sentence)\n",
    "\n",
    "    return sentences"
   ]
  },
  {
   "cell_type": "markdown",
   "metadata": {},
   "source": [
    "## 计算bleu score"
   ]
  },
  {
   "cell_type": "markdown",
   "metadata": {},
   "source": [
    "https://blog.csdn.net/guolindonggld/article/details/56966200"
   ]
  },
  {
   "cell_type": "code",
   "execution_count": null,
   "metadata": {
    "execution": {
     "iopub.execute_input": "2021-10-23T02:27:54.681441Z",
     "iopub.status.busy": "2021-10-23T02:27:54.681017Z",
     "iopub.status.idle": "2021-10-23T02:27:54.690796Z",
     "shell.execute_reply": "2021-10-23T02:27:54.690047Z",
     "shell.execute_reply.started": "2021-10-23T02:27:54.681407Z"
    }
   },
   "outputs": [],
   "source": [
    "def computebleu(sentences, targets):\n",
    "    score = 0\n",
    "    count = len(sentences)\n",
    "    assert (len(sentences) == len(targets))\n",
    "\n",
    "    def cut_token(sentence):\n",
    "        tmp = []\n",
    "        for token in sentence:\n",
    "            if token == \"<eos>\":\n",
    "                break\n",
    "            if token == '<unk>' or token.isdigit() or len(bytes(token[0], encoding='utf-8')) == 1:\n",
    "                tmp.append(token)\n",
    "            else:\n",
    "                tmp += [word for word in token]\n",
    "        return tmp\n",
    "\n",
    "    for sentence, target in zip(sentences, targets):\n",
    "        sentence = cut_token(sentence)\n",
    "        target = cut_token(target)\n",
    "        score += sentence_bleu([target], sentence, weights=(1, 0, 0, 0))\n",
    "\n",
    "    return score, count"
   ]
  },
  {
   "cell_type": "markdown",
   "metadata": {},
   "source": [
    "## 训练和测试"
   ]
  },
  {
   "cell_type": "code",
   "execution_count": null,
   "metadata": {
    "execution": {
     "iopub.execute_input": "2021-10-23T02:27:54.692566Z",
     "iopub.status.busy": "2021-10-23T02:27:54.692084Z",
     "iopub.status.idle": "2021-10-23T02:27:54.70134Z",
     "shell.execute_reply": "2021-10-23T02:27:54.700582Z",
     "shell.execute_reply.started": "2021-10-23T02:27:54.692533Z"
    }
   },
   "outputs": [],
   "source": [
    "def run_epoch(data_iter, model, loss_compute, pad):\n",
    "    \"\"\"\n",
    "    loss_compute：一个函数，包含全连接,计算损失，反向传播\n",
    "    \"\"\"\n",
    "    start = time.time()\n",
    "    total_tokens = 0\n",
    "    total_loss = 0\n",
    "    tokens = 0\n",
    "    for i, ((src,trg),_) in enumerate(data_iter):\n",
    "        src = src.permute(1,0)\n",
    "        trg = trg.permute(1,0)\n",
    "        batch = Batch(src, trg, pad)\n",
    "        \n",
    "        out = model.forward(batch.src, batch.trg, batch.src_mask, batch.trg_mask)\n",
    "        loss = loss_compute(out, batch.trg_y, batch.ntokens)\n",
    "        \n",
    "        total_loss += loss\n",
    "        total_tokens += batch.ntokens\n",
    "        tokens += batch.ntokens\n",
    "        if i % 50 == 1:\n",
    "            elapsed = time.time() - start\n",
    "            print(\"Epoch Step: %d Loss: %f Tokens per Sec: %f\" %\n",
    "                    (i, loss / batch.ntokens, tokens / elapsed))\n",
    "            start = time.time()\n",
    "            tokens = 0\n",
    "            \n",
    "    return total_loss / total_tokens"
   ]
  },
  {
   "cell_type": "code",
   "execution_count": null,
   "metadata": {
    "execution": {
     "iopub.execute_input": "2021-10-23T02:27:54.702912Z",
     "iopub.status.busy": "2021-10-23T02:27:54.702659Z",
     "iopub.status.idle": "2021-10-23T02:27:54.716126Z",
     "shell.execute_reply": "2021-10-23T02:27:54.715404Z",
     "shell.execute_reply.started": "2021-10-23T02:27:54.70288Z"
    }
   },
   "outputs": [],
   "source": [
    "def train_process(config, SRC, LABEL):\n",
    "\n",
    "    pad = SRC.vocab.stoi['<pad>']\n",
    "    src_vocab = len(SRC.vocab)\n",
    "    tgt_vocab = len(LABEL.vocab)\n",
    "\n",
    "    N = config.n_layers\n",
    "    d_model = config.d_model\n",
    "    d_ff = config.d_ff\n",
    "\n",
    "    h = config.h\n",
    "    dropout = config.dropout\n",
    "    device = config.device\n",
    "    model = make_model(src_vocab, tgt_vocab, N, d_model, d_ff, h, dropout).to(device)\n",
    "    \n",
    "    max_len = config.fix_length\n",
    "    start_symbol = LABEL.vocab.stoi['<bos>']\n",
    "    beam_size = config.beam_size\n",
    "    \n",
    "\n",
    "    # 损失函数\n",
    "    smoothing = config.smoothing\n",
    "    criterion = LabelSmoothing(tgt_vocab, pad, smoothing)\n",
    "\n",
    "    # 优化器\n",
    "    factor = config.factor\n",
    "    warmup = config.warmup\n",
    "    optimizer = torch.optim.Adam(model.parameters(),lr=0, betas = (0.9, 0.98), eps=1e-9)\n",
    "    model_opt = NoamOpt(d_model, factor, warmup, optimizer)\n",
    "\n",
    "    best_score = 0\n",
    "    # 封装计算损失函数的对象\n",
    "    loss_compute = SimpleLossCompute(model.generator, criterion, model_opt)\n",
    "    for i in range(config.epochs):\n",
    "        \n",
    "        run_epoch(train_iter, model, loss_compute, pad)\n",
    "        total_score, total_num, _ = test(model, valid_iter, pad, max_len, start_symbol,device, beam_size)\n",
    "        \n",
    "        print('epoch{}:total bleu score:{:.4f}, total scentence:{},average score{:.4f}'.format(\n",
    "            i,total_score,total_num,total_score/total_num))\n",
    "        if total_score/total_num > best_score:\n",
    "            best_score = total_score/total_num\n",
    "            # 保存模型\n",
    "            torch.save(model.state_dict(),'transformer.pth')\n",
    "    return model"
   ]
  },
  {
   "cell_type": "code",
   "execution_count": null,
   "metadata": {
    "execution": {
     "iopub.execute_input": "2021-10-23T02:27:54.717749Z",
     "iopub.status.busy": "2021-10-23T02:27:54.717428Z",
     "iopub.status.idle": "2021-10-23T02:27:54.730944Z",
     "shell.execute_reply": "2021-10-23T02:27:54.730137Z",
     "shell.execute_reply.started": "2021-10-23T02:27:54.717714Z"
    }
   },
   "outputs": [],
   "source": [
    "def test(model, data_iter, pad, max_len, start_symbol, device, beam_size = 1):\n",
    "    model = model\n",
    "    total_score = 0\n",
    "    total_count = 0\n",
    "    results = []\n",
    "    print('testing...')\n",
    "    for (src, trg), _ in tqdm(data_iter):\n",
    "        \n",
    "        src = src.permute(1,0)\n",
    "        trg = trg.permute(1,0)\n",
    "        src_mask = (src != pad).unsqueeze(-2)\n",
    "        \n",
    "        if beam_size == 1:\n",
    "            ids = greedy_decode(model, src, src_mask, max_len, start_symbol)\n",
    "            sentences = tokens2sentence(ids, LABEL)\n",
    "            # label_text = tokens2sentence(ids, LABEL)\n",
    "        else:\n",
    "            ids = beam_search(model, src, src_mask, max_len, start_symbol, beam_size, device)\n",
    "            sentences = tokens2sentence(ids, LABEL)\n",
    "            \n",
    "        targets = tokens2sentence(trg, LABEL)\n",
    "        source = tokens2sentence(src, SRC)\n",
    "#         results.append((source,targets,sentences))\n",
    "        score, count = computebleu(sentences, targets)\n",
    "        for src, tgt, pred in zip(source, targets,sentences):\n",
    "            results.append((list(filter(lambda x: x!= '<pad>', src)), tgt, pred ))\n",
    "        total_score += score\n",
    "        total_count += count\n",
    "    return total_score, total_count, results\n",
    "                \n"
   ]
  },
  {
   "cell_type": "code",
   "execution_count": null,
   "metadata": {
    "execution": {
     "iopub.execute_input": "2021-10-23T02:27:54.73449Z",
     "iopub.status.busy": "2021-10-23T02:27:54.734092Z",
     "iopub.status.idle": "2021-10-23T02:27:54.74358Z",
     "shell.execute_reply": "2021-10-23T02:27:54.742764Z",
     "shell.execute_reply.started": "2021-10-23T02:27:54.734462Z"
    }
   },
   "outputs": [],
   "source": [
    "def load_model(config, LABEL, SRC):\n",
    "    pad = SRC.vocab.stoi['<pad>']\n",
    "    src_vocab = len(SRC.vocab)\n",
    "    tgt_vocab = len(LABEL.vocab)\n",
    "\n",
    "    N = config.n_layers\n",
    "    d_model = config.d_model\n",
    "    d_ff = config.d_ff\n",
    "\n",
    "    h = config.h\n",
    "    dropout = config.dropout\n",
    "    device = config.device\n",
    "    model = make_model(src_vocab, tgt_vocab, N, d_model, d_ff, h, dropout).to(device)\n",
    "    model.load_state_dict(torch.load(config.load_path))\n",
    "    return model"
   ]
  },
  {
   "cell_type": "markdown",
   "metadata": {},
   "source": [
    "## main"
   ]
  },
  {
   "cell_type": "code",
   "execution_count": null,
   "metadata": {
    "execution": {
     "iopub.execute_input": "2021-10-23T02:27:54.747189Z",
     "iopub.status.busy": "2021-10-23T02:27:54.746525Z",
     "iopub.status.idle": "2021-10-23T02:27:57.622989Z",
     "shell.execute_reply": "2021-10-23T02:27:57.622205Z",
     "shell.execute_reply.started": "2021-10-23T02:27:54.747163Z"
    }
   },
   "outputs": [],
   "source": [
    "config = Config()\n",
    "config.beam_size = 1\n",
    "train_iter, test_iter, valid_iter, SRC, LABEL = prepare_data_iter(config)"
   ]
  },
  {
   "cell_type": "code",
   "execution_count": null,
   "metadata": {
    "execution": {
     "iopub.execute_input": "2021-10-23T02:27:57.624742Z",
     "iopub.status.busy": "2021-10-23T02:27:57.624324Z",
     "iopub.status.idle": "2021-10-23T02:50:02.120125Z",
     "shell.execute_reply": "2021-10-23T02:50:02.119417Z",
     "shell.execute_reply.started": "2021-10-23T02:27:57.624707Z"
    }
   },
   "outputs": [],
   "source": [
    "# 训练\n",
    "model = train_process(config, SRC, LABEL)"
   ]
  },
  {
   "cell_type": "code",
   "execution_count": null,
   "metadata": {
    "execution": {
     "iopub.execute_input": "2021-10-23T02:50:02.122286Z",
     "iopub.status.busy": "2021-10-23T02:50:02.121803Z",
     "iopub.status.idle": "2021-10-23T03:26:31.447529Z",
     "shell.execute_reply": "2021-10-23T03:26:31.446699Z",
     "shell.execute_reply.started": "2021-10-23T02:50:02.12225Z"
    }
   },
   "outputs": [],
   "source": [
    "config.load_path = '../input/epoch-20-smooth-02/transformer.pth'\n",
    "config.load_path = 'transformer.pth'\n",
    "# config = Config()\n",
    "# # 加载训练好的模型做预测\n",
    "model = load_model(config, LABEL, SRC)\n",
    "config.beam_size = 3\n",
    "    \n",
    "pad = SRC.vocab.stoi['<pad>']\n",
    "max_len = config.fix_length\n",
    "start_symbol = LABEL.vocab.stoi['<bos>']\n",
    "beam_size = config.beam_size\n",
    "device = config.device\n",
    "total_score, total_scentence, res = test(model, test_iter, pad, max_len, start_symbol, device, beam_size )"
   ]
  },
  {
   "cell_type": "code",
   "execution_count": null,
   "metadata": {
    "execution": {
     "iopub.execute_input": "2021-10-23T03:26:31.449233Z",
     "iopub.status.busy": "2021-10-23T03:26:31.448968Z",
     "iopub.status.idle": "2021-10-23T03:26:31.455011Z",
     "shell.execute_reply": "2021-10-23T03:26:31.454336Z",
     "shell.execute_reply.started": "2021-10-23T03:26:31.4492Z"
    }
   },
   "outputs": [],
   "source": [
    "'''\n",
    "0.2\n",
    "(791.7836494832305, 2636)\n",
    "0.1\n",
    "(798.8936338983596, 2636)\n",
    "0\n",
    "(769.3034688196138, 2636)\n",
    "'''"
   ]
  },
  {
   "cell_type": "code",
   "execution_count": null,
   "metadata": {
    "execution": {
     "iopub.execute_input": "2021-10-23T03:26:31.457794Z",
     "iopub.status.busy": "2021-10-23T03:26:31.456032Z",
     "iopub.status.idle": "2021-10-23T03:26:31.471145Z",
     "shell.execute_reply": "2021-10-23T03:26:31.470248Z",
     "shell.execute_reply.started": "2021-10-23T03:26:31.457743Z"
    }
   },
   "outputs": [],
   "source": [
    "total_score, total_scentence"
   ]
  },
  {
   "cell_type": "code",
   "execution_count": null,
   "metadata": {
    "execution": {
     "iopub.execute_input": "2021-10-23T03:26:31.473891Z",
     "iopub.status.busy": "2021-10-23T03:26:31.473635Z",
     "iopub.status.idle": "2021-10-23T03:26:31.479714Z",
     "shell.execute_reply": "2021-10-23T03:26:31.479017Z",
     "shell.execute_reply.started": "2021-10-23T03:26:31.473856Z"
    }
   },
   "outputs": [],
   "source": [
    "from IPython.display import FileLink\n",
    "FileLink(r'./transformer.pth')"
   ]
  },
  {
   "cell_type": "code",
   "execution_count": null,
   "metadata": {
    "execution": {
     "iopub.execute_input": "2021-10-23T03:26:31.48145Z",
     "iopub.status.busy": "2021-10-23T03:26:31.480849Z",
     "iopub.status.idle": "2021-10-23T03:26:33.517346Z",
     "shell.execute_reply": "2021-10-23T03:26:33.516819Z",
     "shell.execute_reply.started": "2021-10-23T03:26:31.481415Z"
    }
   },
   "outputs": [],
   "source": [
    "for source, target, pred in res:\n",
    "    print('-'*30)\n",
    "    print('原文：',' '.join(source))\n",
    "    print('预测：',''.join(pred))\n",
    "    print('目标：',''.join(target))"
   ]
  },
  {
   "cell_type": "markdown",
   "metadata": {},
   "source": [
    "---"
   ]
  },
  {
   "cell_type": "markdown",
   "metadata": {},
   "source": [
    "warmup 展示\n",
    "```pyhton\n",
    "import torch\n",
    "import numpy as np\n",
    "import random\n",
    "from torch.utils.data import DataLoader, Dataset, TensorDataset\n",
    "from torch import optim\n",
    "from torch import nn\n",
    "from matplotlib import pyplot as plt\n",
    "\n",
    "\n",
    "def setup_seed(seed):\n",
    "    torch.manual_seed(seed)\n",
    "    torch.cuda.manual_seed_all(seed)\n",
    "    np.random.seed(seed)\n",
    "    random.seed(seed)\n",
    "    torch.backends.cudnn.deterministic = True\n",
    "\n",
    "\n",
    "# 设置随机数种子\n",
    "setup_seed(20)\n",
    "\n",
    "\n",
    "class TensorDataset(Dataset):\n",
    "    \"\"\"Dataset wrapping data and target tensors.\n",
    "\n",
    "    Each sample will be retrieved by indexing both tensors along the first\n",
    "    dimension.\n",
    "\n",
    "    Arguments:\n",
    "        data_tensor (Tensor): contains sample data.\n",
    "        target_tensor (Tensor): contains sample targets (labels).\n",
    "    可以重写改成适合的方式\n",
    "    \"\"\"\n",
    "\n",
    "    def __init__(self, data_tensor, target_tensor):\n",
    "        assert data_tensor.size(0) == target_tensor.size(0)\n",
    "        self.data_tensor = data_tensor\n",
    "        self.target_tensor = target_tensor\n",
    "\n",
    "    def __getitem__(self, index):\n",
    "        return self.data_tensor[index], self.target_tensor[index]\n",
    "\n",
    "    def __len__(self):\n",
    "        return self.data_tensor.size(0)\n",
    "\n",
    "\n",
    "class NoamOpt:\n",
    "    \"Optim wrapper that implements rate.\"\n",
    "\n",
    "    def __init__(self, model_size, factor, warmup, optimizer):\n",
    "        self.optimizer = optimizer\n",
    "        self._step = 0\n",
    "        self.warmup = warmup\n",
    "        self.factor = factor\n",
    "        self.model_size = model_size\n",
    "        self._rate = 0\n",
    "\n",
    "    def step(self):\n",
    "        \"Update parameters and rate\"\n",
    "        self._step += 1\n",
    "        rate = self.rate()\n",
    "        for p in self.optimizer.param_groups:\n",
    "            p['lr'] = rate\n",
    "        self._rate = rate\n",
    "        self.optimizer.step()\n",
    "\n",
    "    def zero_grad(self):\n",
    "        self.optimizer.zero_grad()\n",
    "\n",
    "    def rate(self, step=None):\n",
    "        \"Implement `lrate` above\"\n",
    "        if step is None:\n",
    "            step = self._step\n",
    "        return self.factor * \\\n",
    "               (self.model_size ** (-0.5) *\n",
    "                min(step ** (-0.5), step * self.warmup ** (-1.5)))\n",
    "\n",
    "\n",
    "class Model(nn.Module):\n",
    "    def __init__(self, in_size, out_size):\n",
    "        super(Model, self).__init__()\n",
    "        self.fc = nn.Linear(in_size, out_size)\n",
    "\n",
    "    def forward(self, x):\n",
    "        out = self.fc(x)\n",
    "        return out\n",
    "\n",
    "\n",
    "def train(model, data_iter, optimizer, loss_function):\n",
    "    model.train()\n",
    "    for x, y in data_iter:\n",
    "        out = model(x)\n",
    "        optimizer.zero_grad()\n",
    "        loss = loss_function(out, y)\n",
    "        loss.backward()\n",
    "        optimizer.step()\n",
    "\n",
    "\n",
    "    return model, optimizer\n",
    "\n",
    "\n",
    "def test(model, data_iter):\n",
    "    total_num = 0\n",
    "    acc_num = 0\n",
    "    model.eval()\n",
    "    for x, y in data_iter:\n",
    "        out = model(x)\n",
    "        _, pred = torch.max(out, dim=-1)\n",
    "        total_num += x.shape[0]\n",
    "        acc_num += sum(pred == y)\n",
    "    print('acc', acc_num / total_num)\n",
    "    return model, optimizer\n",
    "\n",
    "\n",
    "if __name__ == '__main__':\n",
    "\n",
    "    opts = [NoamOpt(10, 1, 20, None),\n",
    "            NoamOpt(10, 1, 40, None),\n",
    "            NoamOpt(20, 1, 20, None)]\n",
    "    plt.plot(np.arange(1, 100), [[opt.rate(i) for opt in opts] for i in range(1, 100)])\n",
    "    plt.legend([\"10:20\", \"10:40\", \"20:20\"])\n",
    "    None\n",
    "\n",
    "    plt.show()\n",
    "\n",
    "    # 构造训练集\n",
    "    d = 10  # 特征维度\n",
    "    n = 50  # 数据量\n",
    "\n",
    "    X = torch.randn(n, d)  # shape = 50,10\n",
    "    true_w = torch.randn(d, 1)\n",
    "    Y = X @ true_w + torch.randn(n, 1) * 0.1\n",
    "    Y[Y >= 0] = 1\n",
    "    Y[Y < 0] = 0\n",
    "\n",
    "    Y = Y.squeeze().long()\n",
    "    dataset = TensorDataset(X, Y)\n",
    "    loader = DataLoader(dataset=dataset, batch_size=8, shuffle=True, num_workers=2, )\n",
    "\n",
    "    model = Model(10, 2)\n",
    "    optimizer = optim.Adam(model.parameters(), lr=0, betas=(0.9, 0.98), eps=1e-9)\n",
    "    warm_up = NoamOpt(10, 2, 16, optimizer)\n",
    "    # warm_up = optimizer = optim.Adam(model.parameters(), lr=0.1, betas=(0.9, 0.98), eps=1e-9)\n",
    "    loss_function = nn.CrossEntropyLoss()\n",
    "\n",
    "    for i in range(50):\n",
    "        model, warm_up = train(model, loader, warm_up, loss_function)\n",
    "        test(model, loader)\n",
    "```"
   ]
  },
  {
   "cell_type": "markdown",
   "metadata": {},
   "source": [
    "标签平滑展示\n",
    "```python\n",
    "from torch import nn\n",
    "import torch\n",
    "from torch.autograd import Variable\n",
    "\n",
    "\n",
    "class LabelSmoothing(nn.Module):\n",
    "    \"Implement label smoothing.\"\n",
    "\n",
    "    def __init__(self, size, smoothing=0.0, padding_idx=None):\n",
    "        '''\n",
    "        :param size: 标签种类\n",
    "        :param padding_idx: 忽略某个标签\n",
    "        :param smoothing: 0-1   0 表示不进行标签平滑 1 表示完全平滑\n",
    "        '''\n",
    "        super(LabelSmoothing, self).__init__()\n",
    "        self.criterion = nn.KLDivLoss(size_average=False)\n",
    "        self.padding_idx = padding_idx\n",
    "        self.confidence = 1.0 - smoothing\n",
    "        self.smoothing = smoothing\n",
    "        self.size = size\n",
    "        self.true_dist = None\n",
    "\n",
    "    def forward(self, x, target):\n",
    "        assert x.size(1) == self.size\n",
    "        true_dist = x.data.clone()\n",
    "        # 把平滑的可能性平均分给除了pad 和 真实的标签\n",
    "        if self.padding_idx is not None:\n",
    "            true_dist.fill_(self.smoothing / (self.size - 2))\n",
    "        else:\n",
    "            true_dist.fill_(self.smoothing / (self.size - 1))\n",
    "        true_dist.scatter_(1, target.data.unsqueeze(1), self.confidence)\n",
    "        if self.padding_idx is not None:\n",
    "            true_dist[:, self.padding_idx] = 0\n",
    "            mask = torch.nonzero(target.data == self.padding_idx)\n",
    "            if mask.dim() > 0:\n",
    "                '''\n",
    "                把真实标签为padding_idx的标签的所有都调成0,这样pad就不会影响损失\n",
    "                最开始是\n",
    "                [2, 1, 0]变为\n",
    "                本来是tensor([[0.0000, 0.1333, 0.6000, 0.1333, 0.1333],\n",
    "                [0.0000, 0.6000, 0.1333, 0.1333, 0.1333],\n",
    "                [0.0000, 0.1333, 0.1333, 0.1333, 0.1333]])\n",
    "                ---->\n",
    "                tensor([[0.0000, 0.1333, 0.6000, 0.1333, 0.1333],\n",
    "                [0.0000, 0.6000, 0.1333, 0.1333, 0.1333],\n",
    "                [0.0000, 0.0000, 0.0000, 0.0000, 0.0000]])\n",
    "                '''\n",
    "                true_dist.index_fill_(0, mask.squeeze(), 0.0)\n",
    "        self.true_dist = true_dist\n",
    "        return self.criterion(x, Variable(true_dist, requires_grad=False))\n",
    "\n",
    "\n",
    "predict = torch.FloatTensor([[0, 0.2, 0.7, 0.1, 0],\n",
    "                             [0, 0.2, 0.7, 0.1, 0],\n",
    "                             [0, 0.2, 0.7, 0.1, 0]])\n",
    "\n",
    "label = Variable(torch.LongTensor([2, 1, 0]))\n",
    "\n",
    "crit = LabelSmoothing(5, 0.4, 0)\n",
    "\n",
    "print(crit(predict, label))\n",
    "# 验证第三条数据对损失没有任何贡献\n",
    "predict = torch.FloatTensor([[0, 0.2, 0.7, 0.1, 0],\n",
    "                             [0, 0.2, 0.7, 0.1, 0],\n",
    "                             [0, 0, 0, 0, 0]])\n",
    "\n",
    "print(crit(predict, label))\n",
    "\n",
    "# 让pad 影响损失\n",
    "crit = LabelSmoothing(5, 0.4)\n",
    "predict = torch.FloatTensor([[0, 0.2, 0.7, 0.1, 0],\n",
    "                             [0, 0.2, 0.7, 0.1, 0],\n",
    "                             [0, 0.2, 0.7, 0.1, 0]])\n",
    "print(crit(predict, label))\n",
    "\n",
    "torch.LongTensor\n",
    "\n",
    "```"
   ]
  },
  {
   "cell_type": "code",
   "execution_count": null,
   "metadata": {
    "_cell_guid": "b1076dfc-b9ad-4769-8c92-a6c4dae69d19",
    "_uuid": "8f2839f25d086af736a60e9eeb907d3b93b6e0e5"
   },
   "outputs": [],
   "source": []
  },
  {
   "cell_type": "code",
   "execution_count": null,
   "metadata": {},
   "outputs": [],
   "source": []
  },
  {
   "cell_type": "code",
   "execution_count": null,
   "metadata": {},
   "outputs": [],
   "source": []
  },
  {
   "cell_type": "code",
   "execution_count": null,
   "metadata": {},
   "outputs": [],
   "source": []
  }
 ],
 "metadata": {
  "kernelspec": {
   "display_name": "Python 3 (ipykernel)",
   "language": "python",
   "name": "python3"
  },
  "language_info": {
   "codemirror_mode": {
    "name": "ipython",
    "version": 3
   },
   "file_extension": ".py",
   "mimetype": "text/x-python",
   "name": "python",
   "nbconvert_exporter": "python",
   "pygments_lexer": "ipython3",
   "version": "3.8.10"
  }
 },
 "nbformat": 4,
 "nbformat_minor": 4
}
